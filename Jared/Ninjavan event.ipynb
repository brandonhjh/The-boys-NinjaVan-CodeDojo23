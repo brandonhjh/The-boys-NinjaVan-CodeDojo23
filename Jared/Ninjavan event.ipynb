{
 "cells": [
  {
   "cell_type": "code",
   "execution_count": 13,
   "id": "775260e7",
   "metadata": {},
   "outputs": [
    {
     "name": "stdout",
     "output_type": "stream",
     "text": [
      "       order_id  depot_id             type parcel_size  \\\n",
      "0     165387601    103410   global_inbound           s   \n",
      "1     165387601    103410   global_inbound           s   \n",
      "2     165387601       255  warehouse_sweep           s   \n",
      "3     166121091         2  warehouse_sweep           m   \n",
      "4     166121091         2  warehouse_sweep           m   \n",
      "...         ...       ...              ...         ...   \n",
      "3493  168393941    103410   global_inbound           s   \n",
      "3494  168393941    103430   global_inbound           s   \n",
      "3495  168393941       251  warehouse_sweep           s   \n",
      "3496  168395421    103410   global_inbound           s   \n",
      "3497  168395421       246  warehouse_sweep           s   \n",
      "\n",
      "                       dest_zone           scanned_at  \n",
      "0     F01-C (LORONG 6 TOA PAYOH)  2023-01-09 18:30:47  \n",
      "1     F01-C (LORONG 6 TOA PAYOH)  2023-01-09 18:59:39  \n",
      "2     F01-C (LORONG 6 TOA PAYOH)  2023-01-10 06:54:02  \n",
      "3                          D09-H  2023-01-03 21:51:47  \n",
      "4                          D09-H  2023-01-03 21:52:21  \n",
      "...                          ...                  ...  \n",
      "3493    G12-F (YISHUN STREET 42)  2023-01-26 22:31:47  \n",
      "3494    G12-F (YISHUN STREET 42)  2023-01-26 22:33:12  \n",
      "3495    G12-F (YISHUN STREET 42)  2023-01-27 05:27:32  \n",
      "3496   J09-G (LORONG 40 GEYLANG)  2023-01-24 20:24:03  \n",
      "3497   J09-G (LORONG 40 GEYLANG)  2023-01-25 04:55:49  \n",
      "\n",
      "[3498 rows x 6 columns]\n"
     ]
    }
   ],
   "source": [
    "import pandas as pd\n",
    "import numpy as np\n",
    "import matplotlib\n",
    "\n",
    "df = pd.read_csv(r'warehouse_scans_with_order_details.csv')\n",
    "print(df)\n",
    "\n"
   ]
  },
  {
   "cell_type": "code",
   "execution_count": 14,
   "id": "9809da1d",
   "metadata": {},
   "outputs": [
    {
     "name": "stdout",
     "output_type": "stream",
     "text": [
      "Index(['order_id', 'depot_id', 'type', 'parcel_size', 'dest_zone',\n",
      "       'scanned_at'],\n",
      "      dtype='object')\n"
     ]
    }
   ],
   "source": [
    "print(df.columns)\n"
   ]
  },
  {
   "cell_type": "code",
   "execution_count": 15,
   "id": "6649fa1e",
   "metadata": {},
   "outputs": [],
   "source": [
    "df2 = df.truncate(after=1000)"
   ]
  },
  {
   "cell_type": "code",
   "execution_count": 16,
   "id": "cccccefb",
   "metadata": {},
   "outputs": [
    {
     "data": {
      "text/html": [
       "<div>\n",
       "<style scoped>\n",
       "    .dataframe tbody tr th:only-of-type {\n",
       "        vertical-align: middle;\n",
       "    }\n",
       "\n",
       "    .dataframe tbody tr th {\n",
       "        vertical-align: top;\n",
       "    }\n",
       "\n",
       "    .dataframe thead th {\n",
       "        text-align: right;\n",
       "    }\n",
       "</style>\n",
       "<table border=\"1\" class=\"dataframe\">\n",
       "  <thead>\n",
       "    <tr style=\"text-align: right;\">\n",
       "      <th></th>\n",
       "      <th>depot_id</th>\n",
       "      <th>type</th>\n",
       "      <th>parcel_size</th>\n",
       "      <th>dest_zone</th>\n",
       "      <th>scanned_at</th>\n",
       "    </tr>\n",
       "    <tr>\n",
       "      <th>order_id</th>\n",
       "      <th></th>\n",
       "      <th></th>\n",
       "      <th></th>\n",
       "      <th></th>\n",
       "      <th></th>\n",
       "    </tr>\n",
       "  </thead>\n",
       "  <tbody>\n",
       "    <tr>\n",
       "      <th>165387601</th>\n",
       "      <td>3</td>\n",
       "      <td>3</td>\n",
       "      <td>3</td>\n",
       "      <td>3</td>\n",
       "      <td>3</td>\n",
       "    </tr>\n",
       "    <tr>\n",
       "      <th>166121091</th>\n",
       "      <td>8</td>\n",
       "      <td>8</td>\n",
       "      <td>8</td>\n",
       "      <td>8</td>\n",
       "      <td>8</td>\n",
       "    </tr>\n",
       "    <tr>\n",
       "      <th>166310371</th>\n",
       "      <td>14</td>\n",
       "      <td>14</td>\n",
       "      <td>14</td>\n",
       "      <td>14</td>\n",
       "      <td>14</td>\n",
       "    </tr>\n",
       "    <tr>\n",
       "      <th>166379961</th>\n",
       "      <td>13</td>\n",
       "      <td>13</td>\n",
       "      <td>13</td>\n",
       "      <td>13</td>\n",
       "      <td>13</td>\n",
       "    </tr>\n",
       "    <tr>\n",
       "      <th>166496291</th>\n",
       "      <td>5</td>\n",
       "      <td>5</td>\n",
       "      <td>5</td>\n",
       "      <td>0</td>\n",
       "      <td>5</td>\n",
       "    </tr>\n",
       "    <tr>\n",
       "      <th>...</th>\n",
       "      <td>...</td>\n",
       "      <td>...</td>\n",
       "      <td>...</td>\n",
       "      <td>...</td>\n",
       "      <td>...</td>\n",
       "    </tr>\n",
       "    <tr>\n",
       "      <th>168383201</th>\n",
       "      <td>3</td>\n",
       "      <td>3</td>\n",
       "      <td>3</td>\n",
       "      <td>3</td>\n",
       "      <td>3</td>\n",
       "    </tr>\n",
       "    <tr>\n",
       "      <th>168389591</th>\n",
       "      <td>3</td>\n",
       "      <td>3</td>\n",
       "      <td>3</td>\n",
       "      <td>3</td>\n",
       "      <td>3</td>\n",
       "    </tr>\n",
       "    <tr>\n",
       "      <th>168393401</th>\n",
       "      <td>3</td>\n",
       "      <td>3</td>\n",
       "      <td>3</td>\n",
       "      <td>3</td>\n",
       "      <td>3</td>\n",
       "    </tr>\n",
       "    <tr>\n",
       "      <th>168393941</th>\n",
       "      <td>4</td>\n",
       "      <td>4</td>\n",
       "      <td>4</td>\n",
       "      <td>4</td>\n",
       "      <td>4</td>\n",
       "    </tr>\n",
       "    <tr>\n",
       "      <th>168395421</th>\n",
       "      <td>2</td>\n",
       "      <td>2</td>\n",
       "      <td>2</td>\n",
       "      <td>2</td>\n",
       "      <td>2</td>\n",
       "    </tr>\n",
       "  </tbody>\n",
       "</table>\n",
       "<p>1000 rows × 5 columns</p>\n",
       "</div>"
      ],
      "text/plain": [
       "           depot_id  type  parcel_size  dest_zone  scanned_at\n",
       "order_id                                                     \n",
       "165387601         3     3            3          3           3\n",
       "166121091         8     8            8          8           8\n",
       "166310371        14    14           14         14          14\n",
       "166379961        13    13           13         13          13\n",
       "166496291         5     5            5          0           5\n",
       "...             ...   ...          ...        ...         ...\n",
       "168383201         3     3            3          3           3\n",
       "168389591         3     3            3          3           3\n",
       "168393401         3     3            3          3           3\n",
       "168393941         4     4            4          4           4\n",
       "168395421         2     2            2          2           2\n",
       "\n",
       "[1000 rows x 5 columns]"
      ]
     },
     "execution_count": 16,
     "metadata": {},
     "output_type": "execute_result"
    }
   ],
   "source": [
    "df.groupby(\"order_id\").count()"
   ]
  },
  {
   "cell_type": "code",
   "execution_count": 20,
   "id": "3749d012",
   "metadata": {},
   "outputs": [
    {
     "name": "stdout",
     "output_type": "stream",
     "text": [
      "276\n"
     ]
    }
   ],
   "source": [
    "num_of_parcels = df[\"order_id\"].nunique()\n",
    "parcel_small = df[\"parcel_size\"]\n",
    "print(num_of_parcels)"
   ]
  },
  {
   "cell_type": "code",
   "execution_count": null,
   "id": "2daf8bfb",
   "metadata": {},
   "outputs": [],
   "source": []
  }
 ],
 "metadata": {
  "kernelspec": {
   "display_name": "Python 3 (ipykernel)",
   "language": "python",
   "name": "python3"
  },
  "language_info": {
   "codemirror_mode": {
    "name": "ipython",
    "version": 3
   },
   "file_extension": ".py",
   "mimetype": "text/x-python",
   "name": "python",
   "nbconvert_exporter": "python",
   "pygments_lexer": "ipython3",
   "version": "3.9.13"
  }
 },
 "nbformat": 4,
 "nbformat_minor": 5
}
